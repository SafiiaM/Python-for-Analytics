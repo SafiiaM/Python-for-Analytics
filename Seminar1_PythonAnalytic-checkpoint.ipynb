{
 "cells": [
  {
   "cell_type": "markdown",
   "id": "22c69ed5",
   "metadata": {},
   "source": [
    "# Задание 1.\n",
    "### 1.1 Соедините два словаря в один\n",
    "### 1.2 Напишите функцию, которая на вход принимает два словаря и возвращает один объединенный словарь. Используйте аннотирование типов Оформление ноутбука и закрепление функций и генераторов\n"
   ]
  },
  {
   "cell_type": "code",
   "execution_count": 87,
   "id": "f1f7a013",
   "metadata": {},
   "outputs": [],
   "source": [
    "dict1 = {'One': 1, 'Two': 2, 'Three': 3}\n",
    "dict2 = {'Four': 4, 'Five': 5, 'Six': 6}"
   ]
  },
  {
   "cell_type": "code",
   "execution_count": 94,
   "id": "f23286e7",
   "metadata": {},
   "outputs": [
    {
     "name": "stdout",
     "output_type": "stream",
     "text": [
      "{'One': 1, 'Two': 2, 'Three': 3, 'Four': 4, 'Five': 5, 'Six': 6}\n"
     ]
    }
   ],
   "source": [
    "def my_dict(dict1:dict, dict2: dict)-> dict:\n",
    "    dict1.update(dict2)\n",
    "    return dict1\n",
    "print (dict1)"
   ]
  },
  {
   "cell_type": "code",
   "execution_count": null,
   "id": "f6144c4a",
   "metadata": {},
   "outputs": [],
   "source": []
  },
  {
   "cell_type": "markdown",
   "id": "5b613e63",
   "metadata": {},
   "source": [
    "## Задание 2. Напишите функцию, которая из двух списков, делает один словарь, где элементы из первого списка - ключи, а элементы из второго списка - значения\n",
    "### 2.1 Используя цикл for\n",
    "### 2.2 Используя dict comprehensions\n"
   ]
  },
  {
   "cell_type": "code",
   "execution_count": 13,
   "id": "1c29c976",
   "metadata": {},
   "outputs": [
    {
     "name": "stdout",
     "output_type": "stream",
     "text": [
      "{'Ones': 1, 'Two': 2, 'Three': 3}\n"
     ]
    }
   ],
   "source": [
    "keys = ['Ones', 'Two', 'Three']\n",
    "values = [1, 2, 3]\n",
    "def make_dict(keys: list, values: list) -> dict:\n",
    "    len_dict = len(keys)\n",
    "    my_dict = {}\n",
    "    for i in range(len_dict):\n",
    "        my_dict[keys[i]] = values[i]\n",
    "    return my_dict\n",
    "print(my_dict)"
   ]
  },
  {
   "cell_type": "code",
   "execution_count": 11,
   "id": "0e64cb4b",
   "metadata": {},
   "outputs": [
    {
     "name": "stdout",
     "output_type": "stream",
     "text": [
      "{'Ones': 1, 'Two': 2, 'Three': 3}\n"
     ]
    }
   ],
   "source": [
    "my_dict2={i: j for (i,j)in zip (keys, values)}\n",
    "print(my_dict2)\n"
   ]
  },
  {
   "cell_type": "code",
   "execution_count": 7,
   "id": "44f933b6",
   "metadata": {},
   "outputs": [
    {
     "name": "stdout",
     "output_type": "stream",
     "text": [
      "[('Ones', 1), ('Two', 2), ('Three', 3)]\n"
     ]
    }
   ],
   "source": [
    "print(list(zip (keys, values)))"
   ]
  },
  {
   "cell_type": "code",
   "execution_count": 8,
   "id": "0a0b39cc",
   "metadata": {},
   "outputs": [
    {
     "data": {
      "text/plain": [
       "{'Ones': 1, 'Two': 2, 'Three': 3}"
      ]
     },
     "execution_count": 8,
     "metadata": {},
     "output_type": "execute_result"
    }
   ],
   "source": [
    "my_dict_2={keys[i]:values[i] for i in range (len_dict) }\n",
    "my_dict_2"
   ]
  },
  {
   "cell_type": "code",
   "execution_count": null,
   "id": "7ece344b",
   "metadata": {},
   "outputs": [],
   "source": []
  },
  {
   "cell_type": "markdown",
   "id": "27480214",
   "metadata": {},
   "source": [
    "## Задание 3. Извлеките только два ключа name и age из представленного словаря\n",
    "### 3.1 Напишите функцию с циклом for \n",
    "Функция на вход принимает: \n",
    "  🌟  исходный словарь \n",
    "\n",
    "  🌟  ключи, которые нужно извлечь (аргумент по \n",
    "умолчанию)\n",
    "На выходе словарь с нужными ключами Используйте аннотирование типов \n",
    "### 3.2 Используя dict comprehensions\n"
   ]
  },
  {
   "cell_type": "code",
   "execution_count": 16,
   "id": "71c3ff35",
   "metadata": {},
   "outputs": [],
   "source": [
    "client_dict = {\n",
    "    \"name\": \"John\",\n",
    "    \"age\": 25,\n",
    "    \"salary\": 500000,\n",
    "    \"city\": \"Moscow\"\n",
    "}\n",
    "keys = ['name', 'age']\n"
   ]
  },
  {
   "cell_type": "code",
   "execution_count": 29,
   "id": "9088458d",
   "metadata": {
    "scrolled": true
   },
   "outputs": [
    {
     "name": "stdout",
     "output_type": "stream",
     "text": [
      "{'name': 'John'}\n"
     ]
    }
   ],
   "source": [
    "def my_dict(dict_local: dict, keys_local: list)-> dict:\n",
    "    \n",
    "    my_dict = {}    \n",
    "    for i in range(len(keys_local)):        \n",
    "        my_dict[keys_local[i]] = dict_local[keys_local[i]]\n",
    "        return my_dict\n",
    "    \n",
    "print(my_dict(client_dict, keys))\n"
   ]
  },
  {
   "cell_type": "code",
   "execution_count": 26,
   "id": "7a2d78cf",
   "metadata": {},
   "outputs": [
    {
     "data": {
      "text/plain": [
       "{'salary': 500000, 'city': 'Moscow'}"
      ]
     },
     "execution_count": 26,
     "metadata": {},
     "output_type": "execute_result"
    }
   ],
   "source": [
    "\n",
    "def task_3(client_dict: dict, keys: list) -> dict:\n",
    "    my_dict = {}\n",
    "    for key in keys:\n",
    "        my_dict[key] = client_dict[key]\n",
    "    return my_dict\n",
    "task_3(client_dict, keys=['salary', 'city'])\n",
    "\n",
    "\n"
   ]
  },
  {
   "cell_type": "code",
   "execution_count": 27,
   "id": "1303eea4",
   "metadata": {},
   "outputs": [
    {
     "data": {
      "text/plain": [
       "{'name': 'John', 'age': 25}"
      ]
     },
     "execution_count": 27,
     "metadata": {},
     "output_type": "execute_result"
    }
   ],
   "source": [
    "my_dict = {key: client_dict[key] for key in keys}\n",
    "my_dict\n"
   ]
  },
  {
   "cell_type": "code",
   "execution_count": 30,
   "id": "e2d4378c",
   "metadata": {},
   "outputs": [
    {
     "name": "stdout",
     "output_type": "stream",
     "text": [
      "{'name': 'John', 'age': 25}\n"
     ]
    }
   ],
   "source": [
    "def my_dict2(dict_local: dict, keys_local: list)-> dict:\n",
    "    my_dict = {keys_local[i]: dict_local[keys_local[i]] for i in range(len(keys_local))}\n",
    "    return my_dict\n",
    "\n",
    "print(my_dict2(client_dict, keys))\n"
   ]
  },
  {
   "cell_type": "code",
   "execution_count": null,
   "id": "9eff3ce7",
   "metadata": {},
   "outputs": [],
   "source": []
  },
  {
   "cell_type": "markdown",
   "id": "38766908",
   "metadata": {},
   "source": [
    "## Задание 4. \n",
    "### 4.1 Сгенерируйте случайные целые числа от 0 до 100 в количестве 5 штук с помощью модуля random \n",
    "  ●  Зафиксируйте псевдогенерацию, чтобы сгенерированные значения всегда были одинаковые \n",
    "\n",
    "  ●  Используйте list comprehensions \n",
    "\n"
   ]
  },
  {
   "cell_type": "code",
   "execution_count": 98,
   "id": "17fe1d6c",
   "metadata": {},
   "outputs": [],
   "source": [
    "import random\n",
    "\n"
   ]
  },
  {
   "cell_type": "code",
   "execution_count": 101,
   "id": "01035ede",
   "metadata": {},
   "outputs": [
    {
     "ename": "IndentationError",
     "evalue": "expected an indented block (503295609.py, line 3)",
     "output_type": "error",
     "traceback": [
      "\u001b[1;36m  Cell \u001b[1;32mIn [101], line 3\u001b[1;36m\u001b[0m\n\u001b[1;33m    lst.append(random.randint(0, 100))\u001b[0m\n\u001b[1;37m    ^\u001b[0m\n\u001b[1;31mIndentationError\u001b[0m\u001b[1;31m:\u001b[0m expected an indented block\n"
     ]
    }
   ],
   "source": [
    "lst = {}\n",
    "for i in range(5):\n",
    "lst.append(random.randint(0, 100)) \n",
    "print(lst)"
   ]
  },
  {
   "cell_type": "code",
   "execution_count": 37,
   "id": "2bed3083",
   "metadata": {},
   "outputs": [
    {
     "data": {
      "text/plain": [
       "['green', 'yellow']"
      ]
     },
     "execution_count": 37,
     "metadata": {},
     "output_type": "execute_result"
    }
   ],
   "source": [
    "a = ['black', 'red', 'yellow', 'green']\n",
    "random.sample(a, 2)"
   ]
  },
  {
   "cell_type": "code",
   "execution_count": 35,
   "id": "889ad875",
   "metadata": {},
   "outputs": [],
   "source": []
  },
  {
   "cell_type": "code",
   "execution_count": 39,
   "id": "1f262b72",
   "metadata": {},
   "outputs": [
    {
     "name": "stdout",
     "output_type": "stream",
     "text": [
      "{1, 37, 46, 14, 87}\n"
     ]
    }
   ],
   "source": [
    "my_random = {int(round(random.random(),2)*100) for i in range(5)}\n",
    "print(my_random)\n"
   ]
  },
  {
   "cell_type": "code",
   "execution_count": 43,
   "id": "14afdaaf",
   "metadata": {},
   "outputs": [
    {
     "name": "stdout",
     "output_type": "stream",
     "text": [
      "{3, 67, 99, 83, 59}\n"
     ]
    }
   ],
   "source": [
    "my_random2 = {random.randint(0, 100) for i in range(5)}\n",
    "print(my_random2)\n"
   ]
  },
  {
   "cell_type": "code",
   "execution_count": 54,
   "id": "2057b915",
   "metadata": {},
   "outputs": [
    {
     "data": {
      "text/plain": [
       "[59, 78, 47, 34, 17]"
      ]
     },
     "execution_count": 54,
     "metadata": {},
     "output_type": "execute_result"
    }
   ],
   "source": [
    "random.seed(9)\n",
    "[random.randint(0, 100)for i in range(5)]"
   ]
  },
  {
   "cell_type": "code",
   "execution_count": 60,
   "id": "8234ce7a",
   "metadata": {},
   "outputs": [
    {
     "data": {
      "text/plain": [
       "0.18614495446206514"
      ]
     },
     "execution_count": 60,
     "metadata": {},
     "output_type": "execute_result"
    }
   ],
   "source": [
    "random.seed(9)\n",
    "[random.randint(0, 100)for i in range(5)]\n",
    "random.random()"
   ]
  },
  {
   "cell_type": "code",
   "execution_count": 78,
   "id": "aa0c40e5",
   "metadata": {},
   "outputs": [
    {
     "data": {
      "text/plain": [
       "[0.06688397634275167,\n",
       " 0.41324281642825933,\n",
       " 0.11050473394613869,\n",
       " 0.752111461418534,\n",
       " 0.5112851098756519]"
      ]
     },
     "execution_count": 78,
     "metadata": {},
     "output_type": "execute_result"
    }
   ],
   "source": [
    "random.seed(49)\n",
    "[random.random() for i in range(5)]"
   ]
  },
  {
   "cell_type": "code",
   "execution_count": null,
   "id": "54e52685",
   "metadata": {},
   "outputs": [],
   "source": []
  },
  {
   "cell_type": "markdown",
   "id": "13600da1",
   "metadata": {},
   "source": [
    "## Задание 5.\n",
    "Напишите функцию, которая может принимать любое количество трат пользователя и считать сумму и среднее.\n",
    "🌟 На вход поступают целочисленные значения в любом количестве\n",
    "🌟 На выходе словарь с ключами суммы трат и средней траты\n"
   ]
  },
  {
   "cell_type": "code",
   "execution_count": 68,
   "id": "8fb0a517",
   "metadata": {},
   "outputs": [
    {
     "data": {
      "text/plain": [
       "{'sum': 25, 'mean': 8.333333333333334}"
      ]
     },
     "execution_count": 68,
     "metadata": {},
     "output_type": "execute_result"
    }
   ],
   "source": [
    "def aggregator(*args):\n",
    "    return{\n",
    "        \"sum\":sum(args),\n",
    "        \"mean\":sum(args)/len(args)\n",
    "    }\n",
    "\n",
    "aggregator(5,10,10)    "
   ]
  },
  {
   "cell_type": "code",
   "execution_count": 72,
   "id": "4cf3a357",
   "metadata": {},
   "outputs": [],
   "source": [
    "# def named_agg(**kwargs):\n",
    "#     return (kwargs)"
   ]
  },
  {
   "cell_type": "code",
   "execution_count": null,
   "id": "2d0e5bc6",
   "metadata": {},
   "outputs": [],
   "source": []
  },
  {
   "cell_type": "code",
   "execution_count": 76,
   "id": "08a8b8e8",
   "metadata": {},
   "outputs": [],
   "source": [
    "def named_agg(**kwargs):\n",
    "    return {\"Names\": kwargs.keys(),\n",
    "            \"Sum\": sum(kwargs.values()),\n",
    "            \"Mean\": sum(kwargs.values())/len(kwargs.values())\n",
    "            }"
   ]
  },
  {
   "cell_type": "code",
   "execution_count": 77,
   "id": "f648cd50",
   "metadata": {},
   "outputs": [
    {
     "data": {
      "text/plain": [
       "{'Names': dict_keys(['John', 'Michael', 'Nick']), 'Sum': 30, 'Mean': 10.0}"
      ]
     },
     "execution_count": 77,
     "metadata": {},
     "output_type": "execute_result"
    }
   ],
   "source": [
    "named_agg(John=5, Michael=10, Nick=15)"
   ]
  },
  {
   "cell_type": "code",
   "execution_count": null,
   "id": "a79491c4",
   "metadata": {},
   "outputs": [],
   "source": []
  }
 ],
 "metadata": {
  "kernelspec": {
   "display_name": "Python 3 (ipykernel)",
   "language": "python",
   "name": "python3"
  },
  "language_info": {
   "codemirror_mode": {
    "name": "ipython",
    "version": 3
   },
   "file_extension": ".py",
   "mimetype": "text/x-python",
   "name": "python",
   "nbconvert_exporter": "python",
   "pygments_lexer": "ipython3",
   "version": "3.9.12"
  }
 },
 "nbformat": 4,
 "nbformat_minor": 5
}
