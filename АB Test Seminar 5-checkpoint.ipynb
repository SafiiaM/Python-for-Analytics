{
 "cells": [
  {
   "attachments": {},
   "cell_type": "markdown",
   "id": "2fdf3504",
   "metadata": {},
   "source": [
    "# Вычислите  выборочную дисперсию, выборочное  среднее, стандартное отклонение , моду и медиану для следующего множества значений: [5, 5, 5, 18, 10, 8, 9, 10, 19, 21 ]\n"
   ]
  },
  {
   "cell_type": "code",
   "execution_count": 3,
   "id": "62531309",
   "metadata": {},
   "outputs": [
    {
     "name": "stdout",
     "output_type": "stream",
     "text": [
      "[ 5  5  5  8  9 10 10 18 19 21]\n"
     ]
    }
   ],
   "source": [
    "import numpy as numpy\n",
    "z = numpy.array([5, 5, 5, 18, 10, 8, 9, 10, 19, 21])\n",
    "z.sort()\n",
    "print(z)"
   ]
  },
  {
   "cell_type": "code",
   "execution_count": 4,
   "id": "e1bdd40c",
   "metadata": {},
   "outputs": [
    {
     "data": {
      "text/plain": [
       "5.796550698475776"
      ]
     },
     "execution_count": 4,
     "metadata": {},
     "output_type": "execute_result"
    }
   ],
   "source": [
    "numpy.std(z) # - смещенное стандартное отклонение"
   ]
  },
  {
   "cell_type": "code",
   "execution_count": 5,
   "id": "744b6eb0",
   "metadata": {},
   "outputs": [
    {
     "data": {
      "text/plain": [
       "33.6"
      ]
     },
     "execution_count": 5,
     "metadata": {},
     "output_type": "execute_result"
    }
   ],
   "source": [
    "numpy.var(z) # - смещенная дисперсия"
   ]
  },
  {
   "cell_type": "code",
   "execution_count": 6,
   "id": "9baf3cb4",
   "metadata": {},
   "outputs": [
    {
     "data": {
      "text/plain": [
       "11.0"
      ]
     },
     "execution_count": 6,
     "metadata": {},
     "output_type": "execute_result"
    }
   ],
   "source": [
    "numpy.mean(z) # выборочное среднее"
   ]
  },
  {
   "cell_type": "code",
   "execution_count": 7,
   "id": "8665336a",
   "metadata": {},
   "outputs": [
    {
     "name": "stdout",
     "output_type": "stream",
     "text": [
      "9.5\n"
     ]
    }
   ],
   "source": [
    "median_np = numpy.median(z) #медиана\n",
    "print(median_np)"
   ]
  },
  {
   "cell_type": "code",
   "execution_count": 8,
   "id": "2dd73d0b",
   "metadata": {},
   "outputs": [
    {
     "data": {
      "text/plain": [
       "6.110100926607787"
      ]
     },
     "execution_count": 8,
     "metadata": {},
     "output_type": "execute_result"
    }
   ],
   "source": [
    "numpy.std(z, ddof=1) # несмещенное стандартное отклонение"
   ]
  },
  {
   "cell_type": "code",
   "execution_count": 9,
   "id": "8a4e9b92",
   "metadata": {},
   "outputs": [
    {
     "data": {
      "text/plain": [
       "37.333333333333336"
      ]
     },
     "execution_count": 9,
     "metadata": {},
     "output_type": "execute_result"
    }
   ],
   "source": [
    "numpy.var(z,ddof=1) # несмещенная стандартная дисперсия"
   ]
  },
  {
   "cell_type": "code",
   "execution_count": 10,
   "id": "a7cf2fc5",
   "metadata": {},
   "outputs": [
    {
     "data": {
      "text/plain": [
       "ModeResult(mode=array([5]), count=array([3]))"
      ]
     },
     "execution_count": 10,
     "metadata": {},
     "output_type": "execute_result"
    }
   ],
   "source": [
    "import scipy.stats\n",
    "scipy.stats.mode(z) # мода"
   ]
  },
  {
   "cell_type": "code",
   "execution_count": null,
   "id": "cf7f21af",
   "metadata": {},
   "outputs": [],
   "source": []
  }
 ],
 "metadata": {
  "kernelspec": {
   "display_name": "Python 3 (ipykernel)",
   "language": "python",
   "name": "python3"
  },
  "language_info": {
   "codemirror_mode": {
    "name": "ipython",
    "version": 3
   },
   "file_extension": ".py",
   "mimetype": "text/x-python",
   "name": "python",
   "nbconvert_exporter": "python",
   "pygments_lexer": "ipython3",
   "version": "3.9.12"
  }
 },
 "nbformat": 4,
 "nbformat_minor": 5
}
