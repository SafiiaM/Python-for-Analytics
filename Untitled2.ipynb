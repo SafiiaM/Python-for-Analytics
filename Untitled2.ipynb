{
  "nbformat": 4,
  "nbformat_minor": 0,
  "metadata": {
    "colab": {
      "provenance": []
    },
    "kernelspec": {
      "name": "python3",
      "display_name": "Python 3"
    },
    "language_info": {
      "name": "python"
    }
  },
  "cells": [
    {
      "cell_type": "code",
      "execution_count": null,
      "metadata": {
        "id": "Cl2TXmIpl9_6"
      },
      "outputs": [],
      "source": [
        "keys = ['Ones', 'Two', 'Three']\n",
        "values = [1, 2, 3]"
      ]
    },
    {
      "cell_type": "code",
      "source": [
        "def make_dict(keys: list, values: list) -> dict:\n",
        "    len_dict = len(keys)\n",
        "    my_dict = {}\n",
        "    for i in range(len_dict):\n",
        "        my_dict[keys[i]] = values[i]\n",
        "    return my_dict"
      ],
      "metadata": {
        "id": "vo5akRZVttrK"
      },
      "execution_count": null,
      "outputs": []
    },
    {
      "cell_type": "code",
      "source": [
        "make_dict(keys, values)"
      ],
      "metadata": {
        "colab": {
          "base_uri": "https://localhost:8080/"
        },
        "id": "oR2cS9MMuqR2",
        "outputId": "4e4be826-003c-48f5-856e-8a592bffe567"
      },
      "execution_count": null,
      "outputs": [
        {
          "output_type": "execute_result",
          "data": {
            "text/plain": [
              "{'Ones': 1, 'Two': 2, 'Three': 3}"
            ]
          },
          "metadata": {},
          "execution_count": 8
        }
      ]
    },
    {
      "cell_type": "code",
      "source": [
        "my_dict_2 = {keys[i]: values[i] for i in range(len_dict)}\n",
        "my_dict_2"
      ],
      "metadata": {
        "colab": {
          "base_uri": "https://localhost:8080/"
        },
        "id": "hW89AR89tyMd",
        "outputId": "c55bc568-8c2e-4aba-b268-1a9e2e214c37"
      },
      "execution_count": null,
      "outputs": [
        {
          "output_type": "execute_result",
          "data": {
            "text/plain": [
              "{'Ones': 1, 'Two': 2, 'Three': 3}"
            ]
          },
          "metadata": {},
          "execution_count": 3
        }
      ]
    },
    {
      "cell_type": "code",
      "source": [
        "my_dict2 = {i: j for (i,j) in zip(keys,values)}\n",
        "print(my_dict2)"
      ],
      "metadata": {
        "colab": {
          "base_uri": "https://localhost:8080/"
        },
        "id": "NghuAToYuVtt",
        "outputId": "0f26539e-98ed-482d-a5e3-81e715b9c0fa"
      },
      "execution_count": null,
      "outputs": [
        {
          "output_type": "stream",
          "name": "stdout",
          "text": [
            "{'Ones': 1, 'Two': 2, 'Three': 3}\n"
          ]
        }
      ]
    },
    {
      "cell_type": "code",
      "source": [
        "print(list(zip(keys, values)))"
      ],
      "metadata": {
        "colab": {
          "base_uri": "https://localhost:8080/"
        },
        "id": "a-wBf1DguMHa",
        "outputId": "c32e701f-3edf-4d3f-c874-2eb63cd08ad6"
      },
      "execution_count": null,
      "outputs": [
        {
          "output_type": "stream",
          "name": "stdout",
          "text": [
            "[('Ones', 1), ('Two', 2), ('Three', 3)]\n"
          ]
        }
      ]
    },
    {
      "cell_type": "code",
      "source": [
        "for i, j in zip(keys, values):\n",
        "    print(i, j)"
      ],
      "metadata": {
        "colab": {
          "base_uri": "https://localhost:8080/"
        },
        "id": "zHBhQeQrt9sg",
        "outputId": "f73ee8b1-d5f9-4b81-b262-a89edfcee048"
      },
      "execution_count": null,
      "outputs": [
        {
          "output_type": "stream",
          "name": "stdout",
          "text": [
            "Ones 1\n",
            "Two 2\n",
            "Three 3\n"
          ]
        }
      ]
    },
    {
      "cell_type": "code",
      "source": [
        "client_dict = {\n",
        "    \"name\": \"John\",\n",
        "    \"age\": 25,\n",
        "    \"salary\": 500000,\n",
        "    \"city\": \"Moscow\"}\n",
        "\n",
        "keys = ['name', 'age']"
      ],
      "metadata": {
        "id": "jm9UBT44xG2s"
      },
      "execution_count": null,
      "outputs": []
    },
    {
      "cell_type": "code",
      "source": [
        "def task_3(client_dict: dict, keys: list) -> dict:\n",
        "    my_dict = {}\n",
        "    for key in keys:\n",
        "        my_dict[key] = client_dict[key]\n",
        "    return my_dict"
      ],
      "metadata": {
        "id": "GQs_v4XsuJeV"
      },
      "execution_count": null,
      "outputs": []
    },
    {
      "cell_type": "code",
      "source": [
        "task_3(client_dict, keys=['salary', 'city'])"
      ],
      "metadata": {
        "colab": {
          "base_uri": "https://localhost:8080/"
        },
        "id": "KmQykkXaxF2E",
        "outputId": "a31cad3e-c5c5-483e-9736-e22fb751f4c2"
      },
      "execution_count": null,
      "outputs": [
        {
          "output_type": "execute_result",
          "data": {
            "text/plain": [
              "{'salary': 500000, 'city': 'Moscow'}"
            ]
          },
          "metadata": {},
          "execution_count": 20
        }
      ]
    },
    {
      "cell_type": "code",
      "source": [
        "def my_dict(dict_local: dict, keys_local: list)-> dict:\n",
        "    my_dict = {}\n",
        "    for i in range(len(keys_local)):\n",
        "        my_dict[keys_local[i]] = dict_local[keys_local[i]]\n",
        "    return my_dict\n",
        "\n",
        "\n",
        "print(my_dict(client_dict, keys))"
      ],
      "metadata": {
        "id": "Z_ULYYBAyqyR"
      },
      "execution_count": null,
      "outputs": []
    },
    {
      "cell_type": "code",
      "source": [
        "my_dict = {key: client_dict[key] for key in keys}\n",
        "my_dict"
      ],
      "metadata": {
        "colab": {
          "base_uri": "https://localhost:8080/"
        },
        "id": "so191JZbzGTd",
        "outputId": "0d217f82-bffd-4e21-d4aa-91da1df52d7f"
      },
      "execution_count": null,
      "outputs": [
        {
          "output_type": "execute_result",
          "data": {
            "text/plain": [
              "{'name': 'John', 'age': 25}"
            ]
          },
          "metadata": {},
          "execution_count": 21
        }
      ]
    },
    {
      "cell_type": "code",
      "source": [
        "def my_dict2(dict_local: dict, keys_local: list)-> dict:\n",
        "    my_dict = {keys_local[i]: dict_local[keys_local[i]] for i in range(len(keys_local))}\n",
        "    return my_dict\n",
        "\n",
        "print(my_dict2(client_dict, keys))"
      ],
      "metadata": {
        "colab": {
          "base_uri": "https://localhost:8080/"
        },
        "id": "x8jNenkKzSyP",
        "outputId": "ae1c9cc8-73c7-47aa-f7a1-a497d5a83c69"
      },
      "execution_count": null,
      "outputs": [
        {
          "output_type": "stream",
          "name": "stdout",
          "text": [
            "{'name': 'John', 'age': 25}\n"
          ]
        }
      ]
    },
    {
      "cell_type": "code",
      "source": [
        "import random\n",
        "random.seed(49)\n",
        "\n",
        "[random.randint(0, 100) for i in range(5)]\n",
        "random.random()"
      ],
      "metadata": {
        "colab": {
          "base_uri": "https://localhost:8080/"
        },
        "id": "3HUmwEbZzdrC",
        "outputId": "e81152d1-28c7-425c-f78d-58b89fd94e9c"
      },
      "execution_count": null,
      "outputs": [
        {
          "output_type": "execute_result",
          "data": {
            "text/plain": [
              "0.752111461418534"
            ]
          },
          "metadata": {},
          "execution_count": 49
        }
      ]
    },
    {
      "cell_type": "code",
      "source": [
        "random.seed(49)\n",
        "[random.random() for i in range(5)]"
      ],
      "metadata": {
        "colab": {
          "base_uri": "https://localhost:8080/"
        },
        "id": "RfIBS3EX2hl-",
        "outputId": "4a6d53b2-c600-4dc9-aec4-f53004e1a833"
      },
      "execution_count": null,
      "outputs": [
        {
          "output_type": "execute_result",
          "data": {
            "text/plain": [
              "[0.06688397634275167,\n",
              " 0.41324281642825933,\n",
              " 0.11050473394613869,\n",
              " 0.752111461418534,\n",
              " 0.5112851098756519]"
            ]
          },
          "metadata": {},
          "execution_count": 46
        }
      ]
    },
    {
      "cell_type": "markdown",
      "source": [
        "## Задание 5.\n",
        "Напишите функцию, которая может принимать любое количество трат пользователя и считать сумму и среднее.\n",
        "🌟 На вход поступают целочисленные значения в любом количестве\n",
        "🌟 На выходе словарь с ключами суммы трат и средней траты\n",
        " "
      ],
      "metadata": {
        "id": "OvGhTzYV7xSD"
      }
    },
    {
      "cell_type": "code",
      "source": [
        "def aggregator(*args):\n",
        "    return {\n",
        "        \"sum\": sum(args),\n",
        "        \"mean\": sum(args)/len(args)\n",
        "    }"
      ],
      "metadata": {
        "id": "HcnNgJ4D511s"
      },
      "execution_count": null,
      "outputs": []
    },
    {
      "cell_type": "code",
      "source": [
        "def named_agg(**kwargs):\n",
        "    return {\"Names\": kwargs.keys(),\n",
        "            \"Sum\": sum(kwargs.values()),\n",
        "            \"Mean\": sum(kwargs.values())/len(kwargs.values())\n",
        "            }"
      ],
      "metadata": {
        "id": "Kn_fv6az9A4F"
      },
      "execution_count": null,
      "outputs": []
    },
    {
      "cell_type": "code",
      "source": [
        "named_agg(John=5, Michael=10, Nik=15, Ivan=40)"
      ],
      "metadata": {
        "colab": {
          "base_uri": "https://localhost:8080/"
        },
        "id": "gYaNwfsr8DXm",
        "outputId": "840c4da4-c13b-4dc6-aeab-fbb7588323cb"
      },
      "execution_count": null,
      "outputs": [
        {
          "output_type": "execute_result",
          "data": {
            "text/plain": [
              "{'Names': dict_keys(['John', 'Michael', 'Nik', 'Ivan']),\n",
              " 'Sum': 70,\n",
              " 'Mean': 17.5}"
            ]
          },
          "metadata": {},
          "execution_count": 70
        }
      ]
    },
    {
      "cell_type": "code",
      "source": [],
      "metadata": {
        "id": "f_2tS3u-8pNh"
      },
      "execution_count": null,
      "outputs": []
    }
  ]
}